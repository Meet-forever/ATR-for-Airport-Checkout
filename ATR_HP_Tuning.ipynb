{
 "cells": [
  {
   "cell_type": "code",
   "execution_count": 1,
   "metadata": {},
   "outputs": [],
   "source": [
    "import pandas as pd\n",
    "import numpy as np\n",
    "import nibabel as nib\n",
    "from sklearn.neighbors import KNeighborsClassifier\n",
    "from sklearn.model_selection import train_test_split, GridSearchCV\n",
    "from sklearn.svm import SVC\n",
    "from sklearn.preprocessing import StandardScaler\n",
    "from sklearn.linear_model import LogisticRegression\n",
    "from sklearn.pipeline import Pipeline\n",
    "from sklearn.decomposition import PCA\n",
    "from sklearn.metrics import accuracy_score, precision_score, recall_score, f1_score\n",
    "from sklearn.tree import DecisionTreeClassifier\n",
    "from sklearn.ensemble import AdaBoostClassifier"
   ]
  },
  {
   "cell_type": "code",
   "execution_count": 2,
   "metadata": {},
   "outputs": [],
   "source": [
    "import warnings\n",
    "warnings.filterwarnings('ignore')"
   ]
  },
  {
   "cell_type": "code",
   "execution_count": 3,
   "metadata": {},
   "outputs": [],
   "source": [
    "files_csv = pd.read_csv(\"ATR_GT_Training.csv\")\n"
   ]
  },
  {
   "cell_type": "code",
   "execution_count": 4,
   "metadata": {},
   "outputs": [],
   "source": [
    "training_files = files_csv.dropna()\n",
    "testing_files = files_csv[~files_csv.index.isin(training_files.index)]\n"
   ]
  },
  {
   "cell_type": "code",
   "execution_count": 5,
   "metadata": {},
   "outputs": [],
   "source": [
    "images = []\n",
    "for training_file in training_files.iloc[:,0]:\n",
    "    nii_img = nib.load(f'./data/{training_file}.nii.gz')\n",
    "    nii_data = nii_img.get_fdata()\n",
    "    images.append(nii_data)\n"
   ]
  },
  {
   "cell_type": "code",
   "execution_count": 6,
   "metadata": {},
   "outputs": [],
   "source": [
    "hist_features = []\n",
    "bins = 100\n",
    "min_intensity, max_intensity = 300, 3000\n",
    "for img in images:\n",
    "  hist, _ = np.histogram(img.flatten(), bins=bins, range=(min_intensity, max_intensity))\n",
    "  hist_norm = hist / np.sum(hist)\n",
    "  hist_features.append(hist_norm)\n",
    "\n",
    "X = np.array(hist_features)\n"
   ]
  },
  {
   "cell_type": "code",
   "execution_count": 7,
   "metadata": {},
   "outputs": [],
   "source": [
    "X_train, X_test, y_train, y_test = train_test_split(X, training_files.iloc[:,1], test_size=0.2, random_state=42)"
   ]
  },
  {
   "attachments": {},
   "cell_type": "markdown",
   "metadata": {},
   "source": [
    "# Hyperparameter optimization"
   ]
  },
  {
   "attachments": {},
   "cell_type": "markdown",
   "metadata": {},
   "source": [
    "## SVM"
   ]
  },
  {
   "attachments": {},
   "cell_type": "markdown",
   "metadata": {},
   "source": [
    "### SVM without PCA"
   ]
  },
  {
   "cell_type": "code",
   "execution_count": 8,
   "metadata": {},
   "outputs": [
    {
     "name": "stdout",
     "output_type": "stream",
     "text": [
      "Accuracy: 0.835820895522388\n",
      "Precision: 0.7566994069681244\n",
      "Recall: 0.746016081871345\n",
      "F1 Score: 0.7483626710364386\n",
      "Best parameters: {'svm__C': 10.0, 'svm__kernel': 'rbf'}\n"
     ]
    }
   ],
   "source": [
    "param_grid = {\n",
    "    'svm__C': [1.0, 5.0, 7.0, 10.0],\n",
    "    'svm__kernel': ['sigmoid', 'rbf', 'poly'],\n",
    "}\n",
    "\n",
    "svm = SVC(random_state=42)\n",
    "clf = GridSearchCV(estimator=Pipeline(steps=[('svm', svm)]), param_grid=param_grid, cv=10, return_train_score=True)\n",
    "\n",
    "clf.fit(X_train, y_train)\n",
    "\n",
    "y_pred = clf.predict(X_test)\n",
    "\n",
    "accuracy = accuracy_score(y_test, y_pred)\n",
    "precision = precision_score(y_test, y_pred, average='macro', zero_division=1)\n",
    "recall = recall_score(y_test, y_pred, average='macro')\n",
    "f1 = f1_score(y_test, y_pred, average='macro')\n",
    "print('Accuracy:', accuracy)\n",
    "print('Precision:', precision)\n",
    "print('Recall:', recall)\n",
    "print('F1 Score:', f1)\n",
    "print('Best parameters:', clf.best_params_)"
   ]
  },
  {
   "attachments": {},
   "cell_type": "markdown",
   "metadata": {},
   "source": [
    "### SVM with PCA"
   ]
  },
  {
   "cell_type": "code",
   "execution_count": 9,
   "metadata": {},
   "outputs": [
    {
     "name": "stdout",
     "output_type": "stream",
     "text": [
      "Accuracy: 0.8208955223880597\n",
      "Precision: 0.732496158278909\n",
      "Recall: 0.7527621136173768\n",
      "F1 Score: 0.7363018778160244\n",
      "Best parameters: {'pca__n_components': 20, 'svm__C': 10.0, 'svm__kernel': 'rbf'}\n"
     ]
    }
   ],
   "source": [
    "param_grid = {\n",
    "    'pca__n_components': [2,5, 10,20, 50],\n",
    "    'svm__C': [1.0, 5.0, 7.0, 10.0],\n",
    "    'svm__kernel': ['sigmoid', 'rbf', 'poly']\n",
    "}\n",
    "\n",
    "pca = PCA(random_state=42)\n",
    "svm = SVC(random_state=42)\n",
    "clf = GridSearchCV(estimator=Pipeline(steps=[('pca', pca), ('svm', svm)]), param_grid=param_grid, cv=10, return_train_score=True)\n",
    "\n",
    "clf.fit(X_train, y_train)\n",
    "\n",
    "y_pred = clf.predict(X_test)\n",
    "\n",
    "accuracy = accuracy_score(y_test, y_pred)\n",
    "precision = precision_score(y_test, y_pred, average='macro', zero_division=1)\n",
    "recall = recall_score(y_test, y_pred, average='macro')\n",
    "f1 = f1_score(y_test, y_pred, average='macro')\n",
    "print('Accuracy:', accuracy)\n",
    "print('Precision:', precision)\n",
    "print('Recall:', recall)\n",
    "print('F1 Score:', f1)\n",
    "print('Best parameters:', clf.best_params_)"
   ]
  },
  {
   "attachments": {},
   "cell_type": "markdown",
   "metadata": {},
   "source": [
    "## KNN"
   ]
  },
  {
   "cell_type": "code",
   "execution_count": 10,
   "metadata": {},
   "outputs": [
    {
     "name": "stdout",
     "output_type": "stream",
     "text": [
      "Accuracy: 0.8706467661691543\n",
      "Precision: 0.8099104011984919\n",
      "Recall: 0.8241906850459482\n",
      "F1 Score: 0.812307983976583\n",
      "Best parameters: {'knn__metric': 'manhattan', 'knn__n_neighbors': 9, 'knn__weights': 'distance'}\n"
     ]
    }
   ],
   "source": [
    "param_grid = {\n",
    "    'knn__n_neighbors': [3, 5, 7, 9], \n",
    "    'knn__weights': ['uniform', 'distance'], \n",
    "    'knn__metric': ['euclidean', 'manhattan']\n",
    "}\n",
    "\n",
    "knn = KNeighborsClassifier()\n",
    "clf = GridSearchCV(estimator=Pipeline(steps=[('knn', knn)]), param_grid=param_grid, cv=10, n_jobs=-1)\n",
    "\n",
    "clf.fit(X_train, y_train)\n",
    "\n",
    "y_pred = clf.predict(X_test)\n",
    "\n",
    "accuracy = accuracy_score(y_test, y_pred)\n",
    "precision = precision_score(y_test, y_pred, average='macro', zero_division=1)\n",
    "recall = recall_score(y_test, y_pred, average='macro')\n",
    "f1 = f1_score(y_test, y_pred, average='macro')\n",
    "print('Accuracy:', accuracy)\n",
    "print('Precision:', precision)\n",
    "print('Recall:', recall)\n",
    "print('F1 Score:', f1)\n",
    "print('Best parameters:', clf.best_params_)"
   ]
  },
  {
   "attachments": {},
   "cell_type": "markdown",
   "metadata": {},
   "source": [
    "# Logistic Regression"
   ]
  },
  {
   "cell_type": "code",
   "execution_count": 11,
   "metadata": {},
   "outputs": [
    {
     "name": "stdout",
     "output_type": "stream",
     "text": [
      "Accuracy: 0.8109452736318408\n",
      "Precision: 0.7250201653559185\n",
      "Recall: 0.6998224728487887\n",
      "F1 Score: 0.7104413164694683\n",
      "Best parameters: {'lr__C': 1, 'lr__penalty': 'l2', 'lr__solver': 'newton-cg'}\n"
     ]
    }
   ],
   "source": [
    "param_grid = {\n",
    "    'lr__solver': ['newton-cg', 'sag', 'saga', 'lbfgs'],\n",
    "    'lr__C': [0.01, 0.1, 1, 10],\n",
    "    'lr__penalty': ['l1', 'l2', 'elasticnet']\n",
    "}\n",
    "\n",
    "lr = LogisticRegression(random_state=42)\n",
    "clf = GridSearchCV(estimator=Pipeline(steps=[('lr', lr)]), param_grid=param_grid, cv=10, verbose=0)\n",
    "\n",
    "scaler = StandardScaler()\n",
    "X_train_scaled = scaler.fit_transform(X_train)\n",
    "X_test_scaled = scaler.transform(X_test)\n",
    "\n",
    "\n",
    "clf.fit(X_train_scaled, y_train)\n",
    "\n",
    "y_pred = clf.predict(X_test_scaled)\n",
    "\n",
    "accuracy = accuracy_score(y_test, y_pred)\n",
    "precision = precision_score(y_test, y_pred, average='macro', zero_division=1)\n",
    "recall = recall_score(y_test, y_pred, average='macro')\n",
    "f1 = f1_score(y_test, y_pred, average='macro')\n",
    "print('Accuracy:', accuracy)\n",
    "print('Precision:', precision)\n",
    "print('Recall:', recall)\n",
    "print('F1 Score:', f1)\n",
    "print('Best parameters:', clf.best_params_)"
   ]
  },
  {
   "attachments": {},
   "cell_type": "markdown",
   "metadata": {},
   "source": [
    "# Decision Tree with AdaBoost"
   ]
  },
  {
   "attachments": {},
   "cell_type": "markdown",
   "metadata": {},
   "source": [
    "## Descision Tree"
   ]
  },
  {
   "cell_type": "code",
   "execution_count": 12,
   "metadata": {},
   "outputs": [
    {
     "name": "stdout",
     "output_type": "stream",
     "text": [
      "Accuracy: 0.8407960199004975\n",
      "Precision: 0.8439657652474108\n",
      "Recall: 0.6801169590643275\n",
      "F1 Score: 0.7419967269481271\n",
      "Best parameters: {'dt__criterion': 'gini', 'dt__max_depth': 7, 'dt__min_samples_split': 5}\n"
     ]
    }
   ],
   "source": [
    "param_grid = {\n",
    "    'dt__max_depth': [6, 7, 8, ],\n",
    "    'dt__min_samples_split': [2, 3, 4, 5],\n",
    "    'dt__criterion': ['gini', 'entropy',],\n",
    "}\n",
    "\n",
    "dt = DecisionTreeClassifier(random_state=42)\n",
    "clf = GridSearchCV(estimator=Pipeline(steps=[('dt', dt)]), param_grid=param_grid, cv=10, verbose=0)\n",
    "\n",
    "scaler = StandardScaler()\n",
    "X_train_scaled = scaler.fit_transform(X_train)\n",
    "X_test_scaled = scaler.transform(X_test)\n",
    "\n",
    "clf.fit(X_train_scaled, y_train)\n",
    "\n",
    "y_pred = clf.predict(X_test_scaled)\n",
    "\n",
    "accuracy = accuracy_score(y_test, y_pred)\n",
    "precision = precision_score(y_test, y_pred, average='macro', zero_division=1)\n",
    "recall = recall_score(y_test, y_pred, average='macro')\n",
    "f1 = f1_score(y_test, y_pred, average='macro')\n",
    "print('Accuracy:', accuracy)\n",
    "print('Precision:', precision)\n",
    "print('Recall:', recall)\n",
    "print('F1 Score:', f1)\n",
    "\n",
    "print('Best parameters:', clf.best_params_)"
   ]
  },
  {
   "attachments": {},
   "cell_type": "markdown",
   "metadata": {},
   "source": [
    "## Decision Tree with AdaBoost "
   ]
  },
  {
   "cell_type": "code",
   "execution_count": 13,
   "metadata": {},
   "outputs": [
    {
     "name": "stdout",
     "output_type": "stream",
     "text": [
      "Accuracy: 0.8855721393034826\n",
      "Precision: 0.8729092643768918\n",
      "Recall: 0.8009137426900585\n",
      "F1 Score: 0.8278913166112176\n",
      "Best parameters: {'ada__n_estimators': 100}\n"
     ]
    }
   ],
   "source": [
    "pipeline = Pipeline([\n",
    "    ('scaler', StandardScaler()),\n",
    "    ('ada', AdaBoostClassifier(estimator=DecisionTreeClassifier(max_depth=8, criterion='gini', min_samples_split=2, random_state=42), random_state=42))\n",
    "])\n",
    "\n",
    "param_grid = {\n",
    "    'ada__n_estimators': [50, 100],\n",
    "}\n",
    "\n",
    "clf = GridSearchCV(estimator=pipeline, param_grid=param_grid, cv=10)\n",
    "\n",
    "clf.fit(X_train, y_train)\n",
    "\n",
    "y_pred = clf.predict(X_test)\n",
    "\n",
    "accuracy = accuracy_score(y_test, y_pred)\n",
    "precision = precision_score(y_test, y_pred, average='macro', zero_division=1)\n",
    "recall = recall_score(y_test, y_pred, average='macro')\n",
    "f1 = f1_score(y_test, y_pred, average='macro')\n",
    "print('Accuracy:', accuracy)\n",
    "print('Precision:', precision)\n",
    "print('Recall:', recall)\n",
    "print('F1 Score:', f1)\n",
    "\n",
    "print('Best parameters:', clf.best_params_)\n"
   ]
  }
 ],
 "metadata": {
  "kernelspec": {
   "display_name": "Python 3",
   "language": "python",
   "name": "python3"
  },
  "language_info": {
   "codemirror_mode": {
    "name": "ipython",
    "version": 3
   },
   "file_extension": ".py",
   "mimetype": "text/x-python",
   "name": "python",
   "nbconvert_exporter": "python",
   "pygments_lexer": "ipython3",
   "version": "3.9.9"
  },
  "orig_nbformat": 4
 },
 "nbformat": 4,
 "nbformat_minor": 2
}
